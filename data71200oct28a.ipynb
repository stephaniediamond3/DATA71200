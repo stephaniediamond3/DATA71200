{
  "cells": [
    {
      "cell_type": "markdown",
      "metadata": {
        "id": "view-in-github",
        "colab_type": "text"
      },
      "source": [
        "<a href=\"https://colab.research.google.com/github/stephaniediamond3/DATA71200/blob/main/data71200oct28a.ipynb\" target=\"_parent\"><img src=\"https://colab.research.google.com/assets/colab-badge.svg\" alt=\"Open In Colab\"/></a>"
      ]
    },
    {
      "cell_type": "code",
      "execution_count": 1,
      "metadata": {
        "id": "5ZgEaSjguFrW"
      },
      "outputs": [],
      "source": [
        "%matplotlib inline\n",
        "import matplotlib.pyplot as plt\n",
        "import numpy as np\n",
        "import pandas as pd"
      ]
    },
    {
      "cell_type": "markdown",
      "metadata": {
        "id": "EtGqC1MYuFrX"
      },
      "source": [
        "# Regression"
      ]
    },
    {
      "cell_type": "markdown",
      "metadata": {
        "id": "lz1BpntFuFrX"
      },
      "source": [
        "## Linear Regression"
      ]
    },
    {
      "cell_type": "code",
      "execution_count": 2,
      "metadata": {
        "id": "x0aE9-hTuFrX"
      },
      "outputs": [],
      "source": [
        "# https://scikit-learn.org/stable/modules/generated/sklearn.linear_model.LinearRegression.html\n",
        "from sklearn.linear_model import LinearRegression\n",
        "from sklearn.model_selection import train_test_split\n",
        "from sklearn import datasets\n",
        "\n",
        "X,y = datasets.load_diabetes(return_X_y=True)\n",
        "\n",
        "X_train, X_test, y_train, y_test = train_test_split(X, y, random_state=66)\n",
        "lr = LinearRegression().fit(X_train, y_train)"
      ]
    },
    {
      "cell_type": "code",
      "execution_count": 3,
      "metadata": {
        "id": "Hpmz9ULtuFrY",
        "outputId": "276bf38f-8e6c-4ff1-eb4f-1fa18a428e6f",
        "colab": {
          "base_uri": "https://localhost:8080/"
        }
      },
      "outputs": [
        {
          "output_type": "stream",
          "name": "stdout",
          "text": [
            "Training set R^2: 0.51\n",
            "Test set R^2: 0.52\n"
          ]
        }
      ],
      "source": [
        "print(\"Training set R^2: {:.2f}\".format(lr.score(X_train, y_train)))\n",
        "print(\"Test set R^2: {:.2f}\".format(lr.score(X_test, y_test)))"
      ]
    },
    {
      "cell_type": "markdown",
      "metadata": {
        "id": "8Yg5gDoSuFrY"
      },
      "source": [
        "## Ridge Regression"
      ]
    },
    {
      "cell_type": "code",
      "execution_count": 4,
      "metadata": {
        "id": "8gG4XEsNuFrY",
        "outputId": "4af01328-2b0d-45b1-a064-c433776f38de",
        "colab": {
          "base_uri": "https://localhost:8080/"
        }
      },
      "outputs": [
        {
          "output_type": "stream",
          "name": "stdout",
          "text": [
            "Training set score: 0.42\n",
            "Test set score: 0.41\n"
          ]
        }
      ],
      "source": [
        "# https://scikit-learn.org/stable/modules/generated/sklearn.linear_model.Ridge.html\n",
        "from sklearn.linear_model import Ridge\n",
        "\n",
        "ridge = Ridge().fit(X_train, y_train)\n",
        "print(\"Training set score: {:.2f}\".format(ridge.score(X_train, y_train)))\n",
        "print(\"Test set score: {:.2f}\".format(ridge.score(X_test, y_test)))"
      ]
    },
    {
      "cell_type": "code",
      "execution_count": 5,
      "metadata": {
        "id": "EUnhi1S5uFrY",
        "outputId": "008ff1e0-6c9e-4940-8e90-3f7fe1a45498",
        "colab": {
          "base_uri": "https://localhost:8080/"
        }
      },
      "outputs": [
        {
          "output_type": "stream",
          "name": "stdout",
          "text": [
            "Training set score: 0.15\n",
            "Test set score: 0.14\n"
          ]
        }
      ],
      "source": [
        "ridge10 = Ridge(alpha=10).fit(X_train, y_train)\n",
        "print(\"Training set score: {:.2f}\".format(ridge10.score(X_train, y_train)))\n",
        "print(\"Test set score: {:.2f}\".format(ridge10.score(X_test, y_test)))"
      ]
    },
    {
      "cell_type": "code",
      "execution_count": 6,
      "metadata": {
        "id": "0iwz6FkiuFrY",
        "outputId": "b441bced-3186-4f9b-fad3-9ec7d52a6bdb",
        "colab": {
          "base_uri": "https://localhost:8080/"
        }
      },
      "outputs": [
        {
          "output_type": "stream",
          "name": "stdout",
          "text": [
            "Training set score: 0.51\n",
            "Test set score: 0.51\n"
          ]
        }
      ],
      "source": [
        "ridge01 = Ridge(alpha=0.1).fit(X_train, y_train)\n",
        "print(\"Training set score: {:.2f}\".format(ridge01.score(X_train, y_train)))\n",
        "print(\"Test set score: {:.2f}\".format(ridge01.score(X_test, y_test)))"
      ]
    },
    {
      "cell_type": "markdown",
      "metadata": {
        "id": "HPXG19QEuFrY"
      },
      "source": [
        "## Lasso Regression"
      ]
    },
    {
      "cell_type": "code",
      "execution_count": 7,
      "metadata": {
        "id": "-BcJsSvduFrY",
        "outputId": "f6d7a6c8-92d9-4a8a-f41a-478304532724",
        "colab": {
          "base_uri": "https://localhost:8080/"
        }
      },
      "outputs": [
        {
          "output_type": "stream",
          "name": "stdout",
          "text": [
            "Training set score: 0.36\n",
            "Test set score: 0.34\n",
            "Number of features used: 3\n"
          ]
        }
      ],
      "source": [
        "from sklearn.linear_model import Lasso\n",
        "\n",
        "lasso = Lasso().fit(X_train, y_train)\n",
        "print(\"Training set score: {:.2f}\".format(lasso.score(X_train, y_train)))\n",
        "print(\"Test set score: {:.2f}\".format(lasso.score(X_test, y_test)))\n",
        "print(\"Number of features used:\", np.sum(lasso.coef_ != 0))"
      ]
    },
    {
      "cell_type": "code",
      "execution_count": 8,
      "metadata": {
        "id": "c45MvkG7uFrY",
        "outputId": "b9c94aa5-bead-40f5-de3f-dfa8152b3f89",
        "colab": {
          "base_uri": "https://localhost:8080/"
        }
      },
      "outputs": [
        {
          "output_type": "stream",
          "name": "stdout",
          "text": [
            "Training set score: 0.51\n",
            "Test set score: 0.51\n",
            "Number of features used: 10\n"
          ]
        }
      ],
      "source": [
        "# we increase the default setting of \"max_iter\",\n",
        "# otherwise the model would warn us that we should increase max_iter.\n",
        "lasso001 = Lasso(alpha=0.01, max_iter=100000).fit(X_train, y_train)\n",
        "print(\"Training set score: {:.2f}\".format(lasso001.score(X_train, y_train)))\n",
        "print(\"Test set score: {:.2f}\".format(lasso001.score(X_test, y_test)))\n",
        "print(\"Number of features used:\", np.sum(lasso001.coef_ != 0))"
      ]
    },
    {
      "cell_type": "code",
      "execution_count": 9,
      "metadata": {
        "id": "4FYx2KcVuFrZ",
        "outputId": "313f9b3e-347a-4fcc-91c4-99fd9cd5dff0",
        "colab": {
          "base_uri": "https://localhost:8080/"
        }
      },
      "outputs": [
        {
          "output_type": "stream",
          "name": "stdout",
          "text": [
            "Training set score: 0.51\n",
            "Test set score: 0.52\n",
            "Number of features used: 10\n"
          ]
        }
      ],
      "source": [
        "lasso00001 = Lasso(alpha=0.0001, max_iter=100000).fit(X_train, y_train)\n",
        "print(\"Training set score: {:.2f}\".format(lasso00001.score(X_train, y_train)))\n",
        "print(\"Test set score: {:.2f}\".format(lasso00001.score(X_test, y_test)))\n",
        "print(\"Number of features used:\", np.sum(lasso00001.coef_ != 0))"
      ]
    },
    {
      "cell_type": "markdown",
      "metadata": {
        "id": "nkZbl8KyuFrZ"
      },
      "source": [
        "# Classification"
      ]
    },
    {
      "cell_type": "markdown",
      "metadata": {
        "id": "RpTeswAeuFrZ"
      },
      "source": [
        "## Logistic Regression"
      ]
    },
    {
      "cell_type": "code",
      "execution_count": 10,
      "metadata": {
        "id": "0iMDFcXluFrZ",
        "outputId": "78ca7b3a-65f5-4725-aa1b-f1146c64ded3",
        "colab": {
          "base_uri": "https://localhost:8080/"
        }
      },
      "outputs": [
        {
          "output_type": "stream",
          "name": "stdout",
          "text": [
            "Training set score: 0.973\n",
            "Test set score: 0.974\n"
          ]
        }
      ],
      "source": [
        "#https://scikit-learn.org/stable/modules/generated/sklearn.linear_model.LogisticRegression.html\n",
        "from sklearn.linear_model import LogisticRegression\n",
        "from sklearn.datasets import load_iris\n",
        "\n",
        "iris = load_iris()\n",
        "\n",
        "X_train, X_test, y_train, y_test = train_test_split(\n",
        "    iris.data, iris.target, stratify=iris.target, random_state=66)\n",
        "\n",
        "logreg = LogisticRegression().fit(X_train, y_train)\n",
        "print(\"Training set score: {:.3f}\".format(logreg.score(X_train, y_train)))\n",
        "print(\"Test set score: {:.3f}\".format(logreg.score(X_test, y_test)))"
      ]
    },
    {
      "cell_type": "code",
      "execution_count": 11,
      "metadata": {
        "id": "KaPC2Ck6uFrZ",
        "outputId": "da90da7c-716b-4a99-e7c1-2b87d85c9f81",
        "colab": {
          "base_uri": "https://localhost:8080/"
        }
      },
      "outputs": [
        {
          "output_type": "stream",
          "name": "stdout",
          "text": [
            "Training set score: 0.982\n",
            "Test set score: 0.974\n"
          ]
        },
        {
          "output_type": "stream",
          "name": "stderr",
          "text": [
            "/usr/local/lib/python3.12/dist-packages/sklearn/linear_model/_logistic.py:465: ConvergenceWarning: lbfgs failed to converge (status=1):\n",
            "STOP: TOTAL NO. OF ITERATIONS REACHED LIMIT.\n",
            "\n",
            "Increase the number of iterations (max_iter) or scale the data as shown in:\n",
            "    https://scikit-learn.org/stable/modules/preprocessing.html\n",
            "Please also refer to the documentation for alternative solver options:\n",
            "    https://scikit-learn.org/stable/modules/linear_model.html#logistic-regression\n",
            "  n_iter_i = _check_optimize_result(\n"
          ]
        }
      ],
      "source": [
        "logreg100 = LogisticRegression(C=100).fit(X_train, y_train)\n",
        "print(\"Training set score: {:.3f}\".format(logreg100.score(X_train, y_train)))\n",
        "print(\"Test set score: {:.3f}\".format(logreg100.score(X_test, y_test)))"
      ]
    },
    {
      "cell_type": "code",
      "execution_count": 12,
      "metadata": {
        "id": "j3DbiAQFuFrZ",
        "outputId": "4c056be9-bbc6-402d-dff7-7e8cd193b7fd",
        "colab": {
          "base_uri": "https://localhost:8080/"
        }
      },
      "outputs": [
        {
          "output_type": "stream",
          "name": "stdout",
          "text": [
            "Training set score: 0.884\n",
            "Test set score: 0.842\n"
          ]
        }
      ],
      "source": [
        "logreg001 = LogisticRegression(C=0.01).fit(X_train, y_train)\n",
        "print(\"Training set score: {:.3f}\".format(logreg001.score(X_train, y_train)))\n",
        "print(\"Test set score: {:.3f}\".format(logreg001.score(X_test, y_test)))"
      ]
    },
    {
      "cell_type": "code",
      "execution_count": 13,
      "metadata": {
        "id": "eRBH02nxuFrZ",
        "outputId": "474a8d58-69d6-413d-ce13-e98f516ea272",
        "colab": {
          "base_uri": "https://localhost:8080/"
        }
      },
      "outputs": [
        {
          "output_type": "stream",
          "name": "stdout",
          "text": [
            "Training accuracy of logreg with C=0.001: 0.33\n",
            "Test accuracy of logreg with C=0.001: 0.34\n",
            "Training accuracy of logreg with C=1.000: 0.95\n",
            "Test accuracy of logreg with C=1.000: 1.00\n",
            "Training accuracy of logreg with C=100.000: 0.97\n",
            "Test accuracy of logreg with C=100.000: 0.95\n"
          ]
        }
      ],
      "source": [
        "for C, marker in zip([0.001, 1, 100], ['o', '^', 'v']):\n",
        "    lr_l1 = LogisticRegression(C=C, solver='liblinear', penalty=\"l1\").fit(X_train, y_train)\n",
        "    print(\"Training accuracy of logreg with C={:.3f}: {:.2f}\".format(\n",
        "          C, lr_l1.score(X_train, y_train)))\n",
        "    print(\"Test accuracy of logreg with C={:.3f}: {:.2f}\".format(\n",
        "          C, lr_l1.score(X_test, y_test)))"
      ]
    },
    {
      "cell_type": "markdown",
      "metadata": {
        "id": "Z63BBoO0uFrZ"
      },
      "source": [
        "## Linear Suppor Vector Classifier"
      ]
    },
    {
      "cell_type": "code",
      "execution_count": 14,
      "metadata": {
        "id": "DHzIdNGGuFrZ",
        "outputId": "40489165-9ce7-4c73-daf3-b3b67d0d5e44",
        "colab": {
          "base_uri": "https://localhost:8080/"
        }
      },
      "outputs": [
        {
          "output_type": "stream",
          "name": "stdout",
          "text": [
            "Training set score: 0.964\n",
            "Test set score: 0.947\n"
          ]
        }
      ],
      "source": [
        "# https://scikit-learn.org/stable/modules/generated/sklearn.svm.LinearSVC.html\n",
        "from sklearn.svm import LinearSVC\n",
        "\n",
        "linear_svm = LinearSVC().fit(X_train, y_train)\n",
        "\n",
        "print(\"Training set score: {:.3f}\".format(linear_svm.score(X_train, y_train)))\n",
        "print(\"Test set score: {:.3f}\".format(linear_svm.score(X_test, y_test)))"
      ]
    },
    {
      "cell_type": "code",
      "execution_count": 15,
      "metadata": {
        "id": "lZocoD3TuFrZ",
        "outputId": "579253c8-84f5-4415-c54a-f39b01700331",
        "colab": {
          "base_uri": "https://localhost:8080/"
        }
      },
      "outputs": [
        {
          "output_type": "stream",
          "name": "stdout",
          "text": [
            "Training accuracy of linSVC with C=0.001: 0.66\n",
            "Test accuracy of linSVC with C=0.001: 0.68\n",
            "Training accuracy of linSVC with C=1.000: 0.96\n",
            "Test accuracy of linSVC with C=1.000: 0.95\n",
            "Training accuracy of linSVC with C=100.000: 0.96\n",
            "Test accuracy of linSVC with C=100.000: 0.95\n"
          ]
        }
      ],
      "source": [
        "for C, marker in zip([0.001, 1, 100], ['o', '^', 'v']):\n",
        "    linSVC = LinearSVC(C=C).fit(X_train, y_train)\n",
        "    print(\"Training accuracy of linSVC with C={:.3f}: {:.2f}\".format(\n",
        "          C, linSVC.score(X_train, y_train)))\n",
        "    print(\"Test accuracy of linSVC with C={:.3f}: {:.2f}\".format(\n",
        "          C, linSVC.score(X_test, y_test)))"
      ]
    }
  ],
  "metadata": {
    "kernelspec": {
      "display_name": "Python 3",
      "language": "python",
      "name": "python3"
    },
    "language_info": {
      "codemirror_mode": {
        "name": "ipython",
        "version": 3
      },
      "file_extension": ".py",
      "mimetype": "text/x-python",
      "name": "python",
      "nbconvert_exporter": "python",
      "pygments_lexer": "ipython3",
      "version": "3.6.13"
    },
    "colab": {
      "provenance": [],
      "include_colab_link": true
    }
  },
  "nbformat": 4,
  "nbformat_minor": 0
}