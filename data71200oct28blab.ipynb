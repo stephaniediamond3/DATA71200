{
  "cells": [
    {
      "cell_type": "markdown",
      "metadata": {
        "id": "view-in-github",
        "colab_type": "text"
      },
      "source": [
        "<a href=\"https://colab.research.google.com/github/stephaniediamond3/DATA71200/blob/main/data71200oct28blab.ipynb\" target=\"_parent\"><img src=\"https://colab.research.google.com/assets/colab-badge.svg\" alt=\"Open In Colab\"/></a>"
      ]
    },
    {
      "cell_type": "markdown",
      "source": [
        "# Load Libraries"
      ],
      "metadata": {
        "id": "P0_K6RTyeDXn"
      }
    },
    {
      "cell_type": "code",
      "execution_count": null,
      "metadata": {
        "id": "Ru5SKocjXTsJ"
      },
      "outputs": [],
      "source": [
        "%matplotlib inline\n",
        "import matplotlib.pyplot as plt\n",
        "import numpy as np\n",
        "import pandas as pd"
      ]
    },
    {
      "cell_type": "markdown",
      "source": [
        "# Load wine dataset"
      ],
      "metadata": {
        "id": "oVoyDLteeF4K"
      }
    },
    {
      "cell_type": "code",
      "source": [
        "from sklearn.datasets import load_wine\n",
        "dataset = load_wine()"
      ],
      "metadata": {
        "id": "jETaoxdgeBC0"
      },
      "execution_count": null,
      "outputs": []
    },
    {
      "cell_type": "markdown",
      "source": [
        "# Testing/Training Split"
      ],
      "metadata": {
        "id": "GiMafuJPei-D"
      }
    },
    {
      "cell_type": "code",
      "source": [
        "from sklearn.model_selection import train_test_split\n",
        "from sklearn.naive_bayes import GaussianNB\n",
        "X_train, X_test, y_train, y_test = train_test_split(dataset.data, dataset.target, stratify=dataset.target, test_size=0.2, random_state=42)\n",
        "\n",
        "gnb = GaussianNB()\n",
        "gnb.fit(X_train, y_train)\n",
        "\n",
        "print(\"Training set score: {:.2f}\".format(gnb.score(X_train, y_train)))\n",
        "print(\"Test set score: {:.2f}\".format(gnb.score(X_test, y_test)))"
      ],
      "metadata": {
        "id": "siC8ZjyQehCY",
        "colab": {
          "base_uri": "https://localhost:8080/"
        },
        "outputId": "986966e3-cbec-4477-fc48-47a654b51145"
      },
      "execution_count": null,
      "outputs": [
        {
          "output_type": "stream",
          "name": "stdout",
          "text": [
            "Training set score: 0.98\n",
            "Test set score: 0.97\n"
          ]
        }
      ]
    },
    {
      "cell_type": "markdown",
      "metadata": {
        "id": "OkYHTOh9XTsL"
      },
      "source": [
        "# Naive Bayes Classifier"
      ]
    },
    {
      "cell_type": "code",
      "execution_count": null,
      "metadata": {
        "id": "4n67rRFpXTsL",
        "colab": {
          "base_uri": "https://localhost:8080/"
        },
        "outputId": "180f9ea8-eef4-4509-8eb0-08fde28663df"
      },
      "outputs": [
        {
          "output_type": "stream",
          "name": "stdout",
          "text": [
            "              precision    recall  f1-score   support\n",
            "\n",
            "     class 1       0.92      1.00      0.96        12\n",
            "     class 2       1.00      0.93      0.96        14\n",
            "     class 3       1.00      1.00      1.00        10\n",
            "\n",
            "    accuracy                           0.97        36\n",
            "   macro avg       0.97      0.98      0.97        36\n",
            "weighted avg       0.97      0.97      0.97        36\n",
            "\n"
          ]
        }
      ],
      "source": [
        "from sklearn.metrics import classification_report\n",
        "\n",
        "print(classification_report(y_test, gnb.predict(X_test),\n",
        "                            target_names=[\"class 1\", \"class 2\",\"class 3\"]))"
      ]
    },
    {
      "cell_type": "markdown",
      "source": [
        "## Testing/Training Split Evaluation with GaussianNB"
      ],
      "metadata": {
        "id": "1uejAr-OfSH7"
      }
    },
    {
      "cell_type": "code",
      "source": [
        "from sklearn.naive_bayes import GaussianNB\n",
        "# Accuracy\n",
        "\n"
      ],
      "metadata": {
        "id": "kApyrL89fXIM"
      },
      "execution_count": null,
      "outputs": []
    },
    {
      "cell_type": "code",
      "execution_count": null,
      "metadata": {
        "id": "ZOvfsSukXTsM"
      },
      "outputs": [],
      "source": [
        "# Classification Report\n",
        "print(classification_report(y_test, gnb.predict(X_test),\n",
        "                            target_names=[\"class 1\", \"class 2\",\"class 3\"]))\n"
      ]
    },
    {
      "cell_type": "markdown",
      "source": [
        "## Cross Validation (from class 5 notebook, MultinomialNB)"
      ],
      "metadata": {
        "id": "2p11Whd7faUk"
      }
    },
    {
      "cell_type": "code",
      "source": [
        "\n"
      ],
      "metadata": {
        "id": "Y2EzIagee3D8"
      },
      "execution_count": null,
      "outputs": []
    },
    {
      "cell_type": "markdown",
      "source": [
        "## Grid Search (MultinomialNB Alpha values)"
      ],
      "metadata": {
        "id": "7DU_D0TphNUh"
      }
    },
    {
      "cell_type": "code",
      "source": [
        "from sklearn.naive_bayes import MultinomialNB\n",
        "#dictionary of different values of alpha [0.00001, 0.0001, 0.001, 0.1, 1, 10, 100,1000]\n",
        "\n",
        "#grid search on different values of alpha in dictionary\n"
      ],
      "metadata": {
        "id": "XYQwD82xhMI4"
      },
      "execution_count": null,
      "outputs": []
    },
    {
      "cell_type": "code",
      "source": [
        "#best performing alpha (on training set)\n"
      ],
      "metadata": {
        "id": "ji6kcTRhiwFJ"
      },
      "execution_count": null,
      "outputs": []
    },
    {
      "cell_type": "code",
      "source": [
        "#accuracy of best performing alpha\n"
      ],
      "metadata": {
        "id": "KxlPBZkhizN6"
      },
      "execution_count": null,
      "outputs": []
    },
    {
      "cell_type": "code",
      "source": [
        "# full cross valiadation results from grid search\n"
      ],
      "metadata": {
        "id": "w4qt9x3Ki06L"
      },
      "execution_count": null,
      "outputs": []
    }
  ],
  "metadata": {
    "kernelspec": {
      "display_name": "Python 3",
      "language": "python",
      "name": "python3"
    },
    "language_info": {
      "codemirror_mode": {
        "name": "ipython",
        "version": 3
      },
      "file_extension": ".py",
      "mimetype": "text/x-python",
      "name": "python",
      "nbconvert_exporter": "python",
      "pygments_lexer": "ipython3",
      "version": "3.6.13"
    },
    "colab": {
      "provenance": [],
      "include_colab_link": true
    }
  },
  "nbformat": 4,
  "nbformat_minor": 0
}